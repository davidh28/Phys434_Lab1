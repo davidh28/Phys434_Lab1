{
 "cells": [
  {
   "cell_type": "code",
   "execution_count": 13,
   "id": "a36079cf-85b5-4ca7-b587-6c3e7ce7360e",
   "metadata": {},
   "outputs": [],
   "source": [
    "import matplotlib\n",
    "import matplotlib.pyplot as plt\n",
    "import scipy\n",
    "from scipy import stats\n",
    "\n",
    "#this sets the size of the plot to something useful\n",
    "plt.rcParams[\"figure.figsize\"] = (15,10)"
   ]
  },
  {
   "cell_type": "code",
   "execution_count": 10,
   "id": "ddc63fe1-3d72-461e-946f-1c3fac41b8b5",
   "metadata": {},
   "outputs": [
    {
     "name": "stdout",
     "output_type": "stream",
     "text": [
      "0.8413447460685429\n",
      "0.15865525393145707\n"
     ]
    }
   ],
   "source": [
    "print(stats.norm.cdf(1))\n",
    "print(stats.norm.cdf(-1))\n"
   ]
  },
  {
   "cell_type": "code",
   "execution_count": 12,
   "id": "bcd0f8d8-6c93-4ed1-a045-f93880946cbc",
   "metadata": {},
   "outputs": [
    {
     "name": "stdout",
     "output_type": "stream",
     "text": [
      "1.0\n",
      "-1.0\n"
     ]
    }
   ],
   "source": [
    "print(stats.norm.ppf(0.8413447460685429))\n",
    "print(stats.norm.ppf(0.15865525393145707))"
   ]
  },
  {
   "cell_type": "code",
   "execution_count": null,
   "id": "9cb69c23-6781-44cc-8439-967e89d35fdc",
   "metadata": {},
   "outputs": [],
   "source": []
  }
 ],
 "metadata": {
  "kernelspec": {
   "display_name": "Python 3",
   "language": "python",
   "name": "python3"
  },
  "language_info": {
   "codemirror_mode": {
    "name": "ipython",
    "version": 3
   },
   "file_extension": ".py",
   "mimetype": "text/x-python",
   "name": "python",
   "nbconvert_exporter": "python",
   "pygments_lexer": "ipython3",
   "version": "3.8.8"
  }
 },
 "nbformat": 4,
 "nbformat_minor": 5
}
